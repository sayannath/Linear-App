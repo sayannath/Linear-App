{
 "cells": [
  {
   "cell_type": "code",
   "execution_count": 16,
   "metadata": {},
   "outputs": [],
   "source": [
    "import numpy as np\n",
    "import matplotlib.pyplot as plt\n",
    "import tensorflow as tf\n",
    "import keras\n",
    "from keras.models import Sequential\n",
    "from keras.layers import Dense, Flatten\n",
    "from tensorflow import lite"
   ]
  },
  {
   "cell_type": "code",
   "execution_count": 6,
   "metadata": {},
   "outputs": [],
   "source": [
    "x = np.array([-1.0,0.0,1.0,2.0,3.0,4.0], dtype=float)\n",
    "y = np.array([-3.0,-1.0,1.0,3.0,5.0,7.0], dtype=float)"
   ]
  },
  {
   "cell_type": "code",
   "execution_count": 19,
   "metadata": {},
   "outputs": [],
   "source": [
    "model = Sequential()\n",
    "\n",
    "model.add(Dense(units=1, input_shape=[1]))\n",
    "model.add(Dense(units=1, input_shape=[1]))"
   ]
  },
  {
   "cell_type": "code",
   "execution_count": 20,
   "metadata": {},
   "outputs": [],
   "source": [
    "model.compile(optimizer='sgd', loss='mean_squared_error', metrics=['accuracy'])"
   ]
  },
  {
   "cell_type": "code",
   "execution_count": 21,
   "metadata": {},
   "outputs": [
    {
     "name": "stdout",
     "output_type": "stream",
     "text": [
      "Model: \"sequential_3\"\n",
      "_________________________________________________________________\n",
      "Layer (type)                 Output Shape              Param #   \n",
      "=================================================================\n",
      "dense_5 (Dense)              (None, 1)                 2         \n",
      "_________________________________________________________________\n",
      "dense_6 (Dense)              (None, 1)                 2         \n",
      "=================================================================\n",
      "Total params: 4\n",
      "Trainable params: 4\n",
      "Non-trainable params: 0\n",
      "_________________________________________________________________\n"
     ]
    }
   ],
   "source": [
    "model.summary()"
   ]
  },
  {
   "cell_type": "code",
   "execution_count": 22,
   "metadata": {},
   "outputs": [
    {
     "name": "stdout",
     "output_type": "stream",
     "text": [
      "Epoch 1/62\n",
      "6/6 [==============================] - 0s 46ms/step - loss: 7.6807 - accuracy: 0.1667\n",
      "Epoch 2/62\n",
      "6/6 [==============================] - 0s 485us/step - loss: 5.8562 - accuracy: 0.1667\n",
      "Epoch 3/62\n",
      "6/6 [==============================] - 0s 733us/step - loss: 4.2492 - accuracy: 0.1667\n",
      "Epoch 4/62\n",
      "6/6 [==============================] - 0s 1ms/step - loss: 2.9632 - accuracy: 0.1667\n",
      "Epoch 5/62\n",
      "6/6 [==============================] - 0s 466us/step - loss: 2.0384 - accuracy: 0.1667\n",
      "Epoch 6/62\n",
      "6/6 [==============================] - 0s 333us/step - loss: 1.4393 - accuracy: 0.3333\n",
      "Epoch 7/62\n",
      "6/6 [==============================] - 0s 1ms/step - loss: 1.0836 - accuracy: 0.1667\n",
      "Epoch 8/62\n",
      "6/6 [==============================] - 0s 1ms/step - loss: 0.8829 - accuracy: 0.3333\n",
      "Epoch 9/62\n",
      "6/6 [==============================] - 0s 616us/step - loss: 0.7688 - accuracy: 0.3333\n",
      "Epoch 10/62\n",
      "6/6 [==============================] - 0s 614us/step - loss: 0.6990 - accuracy: 0.3333\n",
      "Epoch 11/62\n",
      "6/6 [==============================] - 0s 681us/step - loss: 0.6504 - accuracy: 0.5000\n",
      "Epoch 12/62\n",
      "6/6 [==============================] - 0s 2ms/step - loss: 0.6120 - accuracy: 0.5000\n",
      "Epoch 13/62\n",
      "6/6 [==============================] - 0s 530us/step - loss: 0.5786 - accuracy: 0.5000\n",
      "Epoch 14/62\n",
      "6/6 [==============================] - 0s 452us/step - loss: 0.5482 - accuracy: 0.5000\n",
      "Epoch 15/62\n",
      "6/6 [==============================] - 0s 2ms/step - loss: 0.5196 - accuracy: 0.5000\n",
      "Epoch 16/62\n",
      "6/6 [==============================] - 0s 917us/step - loss: 0.4926 - accuracy: 0.5000\n",
      "Epoch 17/62\n",
      "6/6 [==============================] - 0s 593us/step - loss: 0.4669 - accuracy: 0.5000\n",
      "Epoch 18/62\n",
      "6/6 [==============================] - 0s 387us/step - loss: 0.4424 - accuracy: 0.5000\n",
      "Epoch 19/62\n",
      "6/6 [==============================] - 0s 290us/step - loss: 0.4190 - accuracy: 0.5000\n",
      "Epoch 20/62\n",
      "6/6 [==============================] - 0s 947us/step - loss: 0.3968 - accuracy: 0.5000\n",
      "Epoch 21/62\n",
      "6/6 [==============================] - 0s 432us/step - loss: 0.3756 - accuracy: 0.5000\n",
      "Epoch 22/62\n",
      "6/6 [==============================] - 0s 1ms/step - loss: 0.3554 - accuracy: 0.5000\n",
      "Epoch 23/62\n",
      "6/6 [==============================] - 0s 731us/step - loss: 0.3362 - accuracy: 0.5000\n",
      "Epoch 24/62\n",
      "6/6 [==============================] - 0s 1ms/step - loss: 0.3180 - accuracy: 0.5000\n",
      "Epoch 25/62\n",
      "6/6 [==============================] - 0s 339us/step - loss: 0.3006 - accuracy: 0.5000\n",
      "Epoch 26/62\n",
      "6/6 [==============================] - 0s 409us/step - loss: 0.2840 - accuracy: 0.6667\n",
      "Epoch 27/62\n",
      "6/6 [==============================] - 0s 466us/step - loss: 0.2683 - accuracy: 0.6667\n",
      "Epoch 28/62\n",
      "6/6 [==============================] - 0s 436us/step - loss: 0.2534 - accuracy: 0.6667\n",
      "Epoch 29/62\n",
      "6/6 [==============================] - 0s 491us/step - loss: 0.2393 - accuracy: 0.6667\n",
      "Epoch 30/62\n",
      "6/6 [==============================] - 0s 464us/step - loss: 0.2258 - accuracy: 0.6667\n",
      "Epoch 31/62\n",
      "6/6 [==============================] - 0s 307us/step - loss: 0.2131 - accuracy: 0.6667\n",
      "Epoch 32/62\n",
      "6/6 [==============================] - 0s 363us/step - loss: 0.2010 - accuracy: 0.6667\n",
      "Epoch 33/62\n",
      "6/6 [==============================] - 0s 435us/step - loss: 0.1895 - accuracy: 0.6667\n",
      "Epoch 34/62\n",
      "6/6 [==============================] - 0s 449us/step - loss: 0.1786 - accuracy: 0.6667\n",
      "Epoch 35/62\n",
      "6/6 [==============================] - 0s 981us/step - loss: 0.1684 - accuracy: 0.6667\n",
      "Epoch 36/62\n",
      "6/6 [==============================] - 0s 510us/step - loss: 0.1586 - accuracy: 0.6667\n",
      "Epoch 37/62\n",
      "6/6 [==============================] - 0s 445us/step - loss: 0.1494 - accuracy: 0.6667\n",
      "Epoch 38/62\n",
      "6/6 [==============================] - 0s 660us/step - loss: 0.1407 - accuracy: 0.8333\n",
      "Epoch 39/62\n",
      "6/6 [==============================] - 0s 320us/step - loss: 0.1324 - accuracy: 0.8333\n",
      "Epoch 40/62\n",
      "6/6 [==============================] - 0s 447us/step - loss: 0.1246 - accuracy: 0.8333\n",
      "Epoch 41/62\n",
      "6/6 [==============================] - 0s 728us/step - loss: 0.1173 - accuracy: 0.8333\n",
      "Epoch 42/62\n",
      "6/6 [==============================] - 0s 362us/step - loss: 0.1103 - accuracy: 0.8333\n",
      "Epoch 43/62\n",
      "6/6 [==============================] - 0s 324us/step - loss: 0.1037 - accuracy: 0.8333\n",
      "Epoch 44/62\n",
      "6/6 [==============================] - 0s 371us/step - loss: 0.0975 - accuracy: 0.8333\n",
      "Epoch 45/62\n",
      "6/6 [==============================] - 0s 372us/step - loss: 0.0917 - accuracy: 0.8333\n",
      "Epoch 46/62\n",
      "6/6 [==============================] - 0s 249us/step - loss: 0.0861 - accuracy: 0.8333\n",
      "Epoch 47/62\n",
      "6/6 [==============================] - 0s 1ms/step - loss: 0.0809 - accuracy: 1.0000\n",
      "Epoch 48/62\n",
      "6/6 [==============================] - 0s 817us/step - loss: 0.0760 - accuracy: 1.0000\n",
      "Epoch 49/62\n",
      "6/6 [==============================] - 0s 536us/step - loss: 0.0714 - accuracy: 1.0000\n",
      "Epoch 50/62\n",
      "6/6 [==============================] - 0s 537us/step - loss: 0.0670 - accuracy: 1.0000\n",
      "Epoch 51/62\n",
      "6/6 [==============================] - 0s 921us/step - loss: 0.0629 - accuracy: 1.0000\n",
      "Epoch 52/62\n",
      "6/6 [==============================] - 0s 361us/step - loss: 0.0590 - accuracy: 1.0000\n",
      "Epoch 53/62\n",
      "6/6 [==============================] - 0s 1ms/step - loss: 0.0554 - accuracy: 1.0000\n",
      "Epoch 54/62\n",
      "6/6 [==============================] - 0s 778us/step - loss: 0.0520 - accuracy: 1.0000\n",
      "Epoch 55/62\n",
      "6/6 [==============================] - 0s 750us/step - loss: 0.0487 - accuracy: 1.0000\n",
      "Epoch 56/62\n",
      "6/6 [==============================] - 0s 346us/step - loss: 0.0457 - accuracy: 1.0000\n",
      "Epoch 57/62\n",
      "6/6 [==============================] - 0s 418us/step - loss: 0.0429 - accuracy: 1.0000\n",
      "Epoch 58/62\n",
      "6/6 [==============================] - 0s 481us/step - loss: 0.0402 - accuracy: 1.0000\n",
      "Epoch 59/62\n",
      "6/6 [==============================] - 0s 336us/step - loss: 0.0377 - accuracy: 1.0000\n",
      "Epoch 60/62\n",
      "6/6 [==============================] - 0s 630us/step - loss: 0.0353 - accuracy: 1.0000\n",
      "Epoch 61/62\n",
      "6/6 [==============================] - 0s 407us/step - loss: 0.0331 - accuracy: 1.0000\n",
      "Epoch 62/62\n",
      "6/6 [==============================] - 0s 377us/step - loss: 0.0310 - accuracy: 1.0000\n"
     ]
    }
   ],
   "source": [
    "model_history = model.fit(x,y,epochs=62)"
   ]
  },
  {
   "cell_type": "code",
   "execution_count": 23,
   "metadata": {},
   "outputs": [
    {
     "data": {
      "image/png": "[encoded data removed]",
      "text/plain": [
       "<Figure size 432x288 with 1 Axes>"
      ]
     },
     "metadata": {
      "needs_background": "light"
     },
     "output_type": "display_data"
    },
    {
     "data": {
      "image/png": "[encoded data removed]",
      "text/plain": [
       "<Figure size 432x288 with 1 Axes>"
      ]
     },
     "metadata": {
      "needs_background": "light"
     },
     "output_type": "display_data"
    }
   ],
   "source": [
    "plt.plot(model_history.history['accuracy'])\n",
    "plt.legend(['train', 'test'], loc='lower right')\n",
    "plt.title('accuracy plot - train vs test')\n",
    "plt.xlabel('epoch')\n",
    "plt.ylabel('accuracy')\n",
    "plt.show()\n",
    "\n",
    "plt.plot(model_history.history['loss'])\n",
    "plt.legend(['training loss', 'validation loss'], loc = 'upper right')\n",
    "plt.title('loss plot - training vs validation')\n",
    "plt.xlabel('epoch')\n",
    "plt.ylabel('loss')\n",
    "plt.show()\n"
   ]
  },
  {
   "cell_type": "code",
   "execution_count": 24,
   "metadata": {},
   "outputs": [
    {
     "name": "stdout",
     "output_type": "stream",
     "text": [
      "[[18.547981]]\n"
     ]
    }
   ],
   "source": [
    "print(model.predict([10]))"
   ]
  },
  {
   "cell_type": "code",
   "execution_count": 27,
   "metadata": {},
   "outputs": [],
   "source": [
    "model.save('linear.h5')"
   ]
  },
  {
   "cell_type": "code",
   "execution_count": 28,
   "metadata": {},
   "outputs": [
    {
     "name": "stdout",
     "output_type": "stream",
     "text": [
      "WARNING:tensorflow:Error in loading the saved optimizer state. As a result, your model is starting with a freshly initialized optimizer.\n"
     ]
    },
    {
     "data": {
      "text/plain": [
       "1116"
      ]
     },
     "execution_count": 28,
     "metadata": {},
     "output_type": "execute_result"
    }
   ],
   "source": [
    "new_model= tf.keras.models.load_model(filepath=\"linear.h5\")\n",
    "tflite_converter = tf.lite.TFLiteConverter.from_keras_model(new_model)\n",
    "tflite_model = tflite_converter.convert()\n",
    "open(\"linear.tflite\", \"wb\").write(tflite_model)"
   ]
  }
 ],
 "metadata": {
  "kernelspec": {
   "display_name": "Python 3",
   "language": "python",
   "name": "python3"
  },
  "language_info": {
   "codemirror_mode": {
    "name": "ipython",
    "version": 3
   },
   "file_extension": ".py",
   "mimetype": "text/x-python",
   "name": "python",
   "nbconvert_exporter": "python",
   "pygments_lexer": "ipython3",
   "version": "3.7.4"
  }
 },
 "nbformat": 4,
 "nbformat_minor": 2
}
